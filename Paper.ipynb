import sklearn.datasets
import numpy as np

# Loading dataset

breast_cancer = sklearn.datasets.load_breast_cancer()

X = breast_cancer.data
Y = breast_cancer.target
type(X)
type(Y)

print(X)
print(Y)

print(X.shape, Y.shape)

import pandas as pd

data = pd.DataFrame(breast_cancer.data, columns=breast_cancer.feature_names)

data['class'] = breast_cancer.target

data.head()

data.describe()

print(data['class'].value_counts())

print(breast_cancer.target_names)

data.groupby('class').mean()

# Train test split

from sklearn.model_selection import train_test_split

X = data.drop('class', axis=1)
Y = data['class']

type(Y)

X_train, X_test, Y_train, Y_test = train_test_split(X, Y)

print(Y.shape, Y_train.shape, Y_test.shape)

X_train, X_test, Y_train, Y_test = train_test_split(X, Y, test_size=0.1)

print(Y.mean(), Y_train.mean(), Y_test.mean())

X_train, X_test, Y_train, Y_test = train_test_split(X, Y, test_size=0.1, stratify = Y)

print(X_train.mean(), X_test.mean(), X.mean())

X_train, X_test, Y_train, Y_test = train_test_split(X, Y, test_size=0.1, stratify = Y, random_state=1)

print(X_train.mean(), X_test.mean(), X.mean())

# Binarisation of input

import matplotlib.pyplot as plt

plt.plot(X_test.T, '*')
plt.xticks(rotation='vertical')
plt.show()

X_binarised_3_train = X_train['mean area'].map(lambda x: 0 if x < 1000 else 1)

plt.plot(X_binarised_3_train, '*')

X_binarised_train = X_train.apply(pd.cut, bins=2, labels=[1,0])

plt.plot(X_binarised_train.T, '*')
plt.xticks(rotation='vertical')
plt.show()

X_binarised_test = X_test.apply(pd.cut, bins=2, labels=[1,0])

type(X_binarised_test)

X_binarised_test = X_binarised_test.values
X_binarised_train = X_binarised_train.values

type(X_binarised_test)

# MP Neuron Class

from sklearn.metrics import accuracy_score

class MPNeuron:
  
  def __init__(self):
    self.b = None
    
  def model(self, x):
    return(sum(x) >= self.b)
  
  def predict(self, X):
    Y = []
    for x in X:
      result = self.model(x)
      Y.append(result)
    return np.array(Y)
  
  def fit(self, X, Y):
    accuracy = {}
    
    for b in range(X.shape[1] + 1):
      self.b = b
      Y_pred = self.predict(X)
      accuracy[b] = accuracy_score(Y_pred, Y)
      
    best_b = max(accuracy, key = accuracy.get)
    self.b = best_b
    
    print('Optimal value of b is', best_b)
    print('Highest accuracy is', accuracy[best_b])

mp_neuron = MPNeuron()
mp_neuron.fit(X_binarised_train, Y_train)

Y_test_pred = mp_neuron.predict(X_binarised_test)
accuracy_test = accuracy_score(Y_test_pred, Y_test)

print(accuracy_test)
