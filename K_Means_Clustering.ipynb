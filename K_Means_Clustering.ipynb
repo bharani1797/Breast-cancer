{
  "nbformat": 4,
  "nbformat_minor": 0,
  "metadata": {
    "colab": {
      "name": "K-Means-Clustering-without-ML-libraries.ipynb",
      "version": "0.3.2",
      "provenance": [],
      "collapsed_sections": []
    },
    "language_info": {
      "codemirror_mode": {
        "name": "ipython",
        "version": 3
      },
      "file_extension": ".py",
      "mimetype": "text/x-python",
      "name": "python",
      "nbconvert_exporter": "python",
      "pygments_lexer": "ipython3",
      "version": "3.6.3"
    },
    "kernelspec": {
      "display_name": "Python 3",
      "language": "python",
      "name": "python3"
    }
  },
  "cells": [
    {
      "metadata": {
        "id": "J9QBGw0rSeLj",
        "colab_type": "code",
        "colab": {}
      },
      "cell_type": "code",
      "source": [
        "import numpy as np\n",
        "import matplotlib.pyplot as plt\n",
        "import random\n",
        "%matplotlib inline"
      ],
      "execution_count": 0,
      "outputs": []
    },
    {
      "metadata": {
        "id": "nehL74HXSeL0",
        "colab_type": "code",
        "colab": {}
      },
      "cell_type": "code",
      "source": [
        "# Data - [average passes, average goals (player goals - opponent goals)]\n",
        "X = [[100,5], [90,5], [110,5], [97,4], [102,4], [112,4], [92,4], [95,3], [90,3], [100,3],\n",
        "     [110,5], [100,5], [110,4], [93,3], [107,2], [117,3], [96,2], [105,3], [100,3], [110,3],\n",
        "     [60,-1], [70,-1],[40,1], [70,-3], [50,-1], [80,0],[50,0],[60,-1],[60,1],[55,0],\n",
        "     [40,-1], [45,-1],[40,0], [55,-3], [60,-1], [65,0],[70,0],[51,-2],[51,1],[48,0]]"
      ],
      "execution_count": 0,
      "outputs": []
    },
    {
      "metadata": {
        "id": "pQMnUYIOSeMB",
        "colab_type": "code",
        "colab": {}
      },
      "cell_type": "code",
      "source": [
        "plotx = []\n",
        "ploty = []\n",
        "for i in range(len(X)):\n",
        "    plotx.append(X[i][0])\n",
        "    ploty.append(X[i][1])\n",
        "plt.plot(plotx,ploty, 'bo')"
      ],
      "execution_count": 0,
      "outputs": []
    },
    {
      "metadata": {
        "id": "nJXV67mVSeMO",
        "colab_type": "code",
        "colab": {}
      },
      "cell_type": "code",
      "source": [
        "#Assigning random means in the beginning\n",
        "def random_centers(dim,k):\n",
        "    centers = []\n",
        "    for i in range(k):\n",
        "        center = []\n",
        "        for d in range(dim):\n",
        "            rand = random.randint(0,100)\n",
        "            center.append(rand)\n",
        "        centers.append(center)\n",
        "    return centers\n",
        "\n",
        "#Adding data points to cluster with least distance from mean\n",
        "def point_clustering(data, centers, dims, first_cluster=False):\n",
        "    for point in data:\n",
        "        nearest_center = 0\n",
        "        nearest_center_dist = None\n",
        "        for i in range(0, len(centers)):\n",
        "            euclidean_dist = 0\n",
        "            for d in range(0, dims):\n",
        "                dist = abs(point[d] - centers[i][d])\n",
        "                euclidean_dist += dist\n",
        "            euclidean_dist = np.sqrt(euclidean_dist)\n",
        "            if nearest_center_dist == None:\n",
        "                nearest_center_dist = euclidean_dist\n",
        "                nearest_center = i\n",
        "            elif nearest_center_dist > euclidean_dist:\n",
        "                nearest_center_dist = euclidean_dist\n",
        "                nearest_center = i\n",
        "        if first_cluster:\n",
        "            point.append(nearest_center)\n",
        "        else:\n",
        "            point[-1] = nearest_center\n",
        "    return data\n",
        "  \n",
        "#Recalculating means of new clusters\n",
        "def mean_center(data, centers, dims):\n",
        "    print('centers:', centers, 'dims:', dims)\n",
        "    new_centers = []\n",
        "    for i in range(len(centers)):\n",
        "        new_center = []\n",
        "        n_of_points = 0\n",
        "        total_of_points = []\n",
        "        for point in data:\n",
        "            if point[-1] == i:\n",
        "                n_of_points += 1\n",
        "                for dim in range(0,dims):\n",
        "                    if dim < len(total_of_points):\n",
        "                        total_of_points[dim] += point[dim]\n",
        "                    else:\n",
        "                        total_of_points.append(point[dim])\n",
        "        if len(total_of_points) != 0:\n",
        "            for dim in range(0,dims):\n",
        "                print(total_of_points, dim)\n",
        "                new_center.append(total_of_points[dim]/n_of_points)\n",
        "            new_centers.append(new_center)\n",
        "        else: \n",
        "            new_centers.append(centers[i])\n",
        "        \n",
        "            \n",
        "    return new_centers"
      ],
      "execution_count": 0,
      "outputs": []
    },
    {
      "metadata": {
        "id": "8NE7_cspSeMZ",
        "colab_type": "code",
        "colab": {}
      },
      "cell_type": "code",
      "source": [
        "# Gets data and k and returns a list of center points.\n",
        "def train_k_means_clustering(data, k=2, epochs=5):\n",
        "    dims = len(data[0])\n",
        "    print('data[0]:',data[0])\n",
        "    centers = random_centers(dims,k)\n",
        "    \n",
        "    clustered_data = point_clustering(data, centers, dims, first_cluster=True)\n",
        "\n",
        "    for i in range(epochs):\n",
        "        centers = mean_center(clustered_data, centers, dims)\n",
        "        clustered_data = point_clustering(data, centers, dims, first_cluster=False)\n",
        "    \n",
        "    return centers\n",
        "#Error evaluated by using difference in the dimensions of points and centers\n",
        "def predict_k_means_clustering(point, centers):\n",
        "    dims = len(point)\n",
        "    center_dims = len(centers[0])\n",
        "    \n",
        "    if dims != center_dims:\n",
        "        raise ValueError('Point given for prediction have', dims, 'dimensions but centers have', center_dims, 'dimensions')\n",
        "\n",
        "    nearest_center = None\n",
        "    nearest_dist = None\n",
        "    \n",
        "    for i in range(len(centers)):\n",
        "        euclidean_dist = 0\n",
        "        for dim in range(1, dims):\n",
        "            dist = point[dim] - centers[i][dim]\n",
        "            euclidean_dist += dist**2\n",
        "        euclidean_dist = np.sqrt(euclidean_dist)\n",
        "        if nearest_dist == None:\n",
        "            nearest_dist = euclidean_dist\n",
        "            nearest_center = i\n",
        "        elif nearest_dist > euclidean_dist:\n",
        "            nearest_dist = euclidean_dist\n",
        "            nearest_center = i\n",
        "        print('center:',i, 'dist:',euclidean_dist)\n",
        "            \n",
        "    return nearest_center"
      ],
      "execution_count": 0,
      "outputs": []
    },
    {
      "metadata": {
        "id": "C-Xy72ueSeMh",
        "colab_type": "code",
        "colab": {}
      },
      "cell_type": "code",
      "source": [
        "centers = train_k_means_clustering(X, k=2, epochs=5)"
      ],
      "execution_count": 0,
      "outputs": []
    },
    {
      "metadata": {
        "id": "M7vInvu_SeMq",
        "colab_type": "code",
        "colab": {}
      },
      "cell_type": "code",
      "source": [
        "print(centers)"
      ],
      "execution_count": 0,
      "outputs": []
    },
    {
      "metadata": {
        "id": "MXIfeIKhSeM_",
        "colab_type": "code",
        "colab": {}
      },
      "cell_type": "code",
      "source": [
        "point = [20,10]\n",
        "print(predict_k_means_clustering(point, centers))\n",
        "\n",
        "plt.plot(plotx,ploty, 'bo', centers[0][0], centers[0][1],'ro', centers[1][0], centers[1][1], 'go', point[0], point[1], 'yo')"
      ],
      "execution_count": 0,
      "outputs": []
    }
  ]
}