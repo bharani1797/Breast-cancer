{
  "nbformat": 4,
  "nbformat_minor": 0,
  "metadata": {
    "colab": {
      "name": "Gradient_Desc_Bharni.ipynb",
      "version": "0.3.2",
      "provenance": [],
      "collapsed_sections": []
    },
    "kernelspec": {
      "name": "python3",
      "display_name": "Python 3"
    }
  },
  "cells": [
    {
      "metadata": {
        "id": "I8uBh7sv2bxk",
        "colab_type": "code",
        "outputId": "cb496f5b-e67b-4afa-93e3-e0018a5070f9",
        "colab": {
          "base_uri": "https://localhost:8080/",
          "height": 73
        }
      },
      "cell_type": "code",
      "source": [
        "from numpy import *\n",
        "import io\n",
        "import pandas as pd\n",
        "\n",
        "df2 = pd.read_csv('data.csv')\n",
        "\n",
        "# Calculating squared error loss and correcting\n",
        "def error_for_line(b,m,points):\n",
        "\ttotalError = 0 \t#sum of square error formula\n",
        "\tfor i in range (0, len(points)):\n",
        "\t\tx = points[i, 0]\n",
        "\t\ty = points[i, 1]\n",
        "\t\ttotalError += (y-(m*x + b)) ** 2\n",
        "\treturn totalError/ float(len(points))\n",
        "\n",
        "#Learning new b and m using gradient descent\n",
        "def gradient_descent(b_current, m_current, points, learning_rate):\n",
        "\tb_gradient = 0\n",
        "\tm_gradient = 0\n",
        "\tN = float(len(points))\n",
        "\tfor i in range(0, len(points)):\n",
        "\t\tx = points[i, 0]\n",
        "\t\ty = points[i, 1]\n",
        "\t\tb_gradient += -(2/N) * (y - (m_current * x + b_current))\n",
        "\t\tm_gradient += -(2/N) * x * (y - (m_current * x + b_current))\n",
        "\tnew_b = b_current - (learning_rate * b_gradient)\n",
        "\tnew_m = m_current - (learning_rate * m_gradient) \n",
        "\treturn [new_b,new_m]\n",
        "\n",
        "def gradient_descent_runner(points, starting_b, starting_m, learning_rate, num_iteartions):\n",
        "\tb = starting_b\n",
        "\tm = starting_m\n",
        "\tfor i in range(num_iteartions):\n",
        "\t\tb,m = step_gradient(b, m, array(points), learning_rate)\n",
        "\treturn [b,m]\n",
        "\n",
        "def run():\n",
        "  #Collecting the data\n",
        "  points = genfromtxt('data.csv', delimiter=',')\n",
        "  #Defining hyperparameters\n",
        "  learning_rate = 0.0001\n",
        "  #initial y-intercept assumption\n",
        "  initial_b = 0\n",
        "  #initial slope assumption\n",
        "  initial_m = 0\n",
        "  num_iterations = 1000\n",
        "  print(\"Starting gradient descent at b = {0}, m = {1}, error = {2}\".format(initial_b, initial_m, error_for_line(initial_b, initial_m, points)))\n",
        "  print(\"Running...\")\n",
        "  [b, m] = gradient_descent_runner(points, initial_b, initial_m, learning_rate, num_iterations)\n",
        "  print(\"After {0} iterations b = {1}, m = {2}, error = {3}\".format(num_iterations, b, m, compute_error_for_line_given_points(b, m, points)))\n",
        "\n",
        "if __name__==\"__main__\":\n",
        "  run()"
      ],
      "execution_count": 9,
      "outputs": [
        {
          "output_type": "stream",
          "text": [
            "Starting gradient descent at b = 0, m = 0, error = 5565.107834483211\n",
            "Running...\n",
            "After 1000 iterations b = 0.08893651993741346, m = 1.4777440851894448, error = 112.61481011613473\n"
          ],
          "name": "stdout"
        }
      ]
    }
  ]
}