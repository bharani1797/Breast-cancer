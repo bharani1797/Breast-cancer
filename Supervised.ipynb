import sklearn.datasets
import numpy as np

# Loading dataset

breast_cancer = sklearn.datasets.load_breast_cancer()

X = breast_cancer.data
Y = breast_cancer.target

print(X)
print(Y)

print(X.shape, Y.shape)

import pandas as pd

data = pd.DataFrame(breast_cancer.data, columns=breast_cancer.feature_names)

data['class'] = breast_cancer.target

data.head()

data.describe()

print(data['class'].value_counts())

print(breast_cancer.target_names)

data.groupby('class').mean()

# Train test split

from sklearn.model_selection import train_test_split

X = data.drop('class', axis=1)
Y = data['class']

type(X)

X_train, X_test, Y_train, Y_test = train_test_split(X, Y)

print(Y.shape, Y_train.shape, Y_test.shape)

X_train, X_test, Y_train, Y_test = train_test_split(X, Y, test_size=0.1)

print(Y.mean(), Y_train.mean(), Y_test.mean())

X_train, X_test, Y_train, Y_test = train_test_split(X, Y, test_size=0.1, stratify = Y)

print(X_train.mean(), X_test.mean(), X.mean())

X_train, X_test, Y_train, Y_test = train_test_split(X, Y, test_size=0.1, stratify = Y, random_state=1)

print(X_train.mean(), X_test.mean(), X.mean())

# Binarisation of input

import matplotlib.pyplot as plt

plt.plot(X_test.T, '*')
plt.xticks(rotation='vertical')
plt.show()

X_binarised_3_train = X_train['mean area'].map(lambda x: 0 if x < 1000 else 1)

plt.plot(X_binarised_3_train, '*')

X_binarised_train = X_train.apply(pd.cut, bins=2, labels=[1,0])

plt.plot(X_binarised_train.T, '*')
plt.xticks(rotation='vertical')
plt.show()

X_binarised_test = X_test.apply(pd.cut, bins=2, labels=[1,0])

type(X_binarised_test)

X_binarised_test = X_binarised_test.values
X_binarised_train = X_binarised_train.values

type(X_binarised_test)

# Perceptron Class

from sklearn.metrics import accuracy_score

X_train = X_train.values
X_test = X_test.values

$y = 1, \mbox{if} \sum_i w_i x_i >= b$

$y =  0, \mbox{otherwise}$

class Perceptron:
  
  def __init__ (self):
    self.w = None
    self.b = None
    
  def model(self, x):
    return 1 if (np.dot(self.w, x) >= self.b) else 0
    
  def predict(self, X):
    Y = []
    for x in X:
      result = self.model(x)
      Y.append(result)
    return np.array(Y)
    
  def fit(self, X, Y, epochs = 1, lr = 1):
    
    self.w = np.ones(X.shape[1])
    self.b = 0
    
    accuracy = {}
    max_accuracy = 0
    
    wt_matrix = []
    
    for i in range(epochs):
      for x, y in zip(X, Y):
        y_pred = self.model(x)
        if y == 1 and y_pred == 0:
          self.w = self.w + lr * x
          self.b = self.b - lr * 1
        elif y == 0 and y_pred == 1:
          self.w = self.w - lr * x
          self.b = self.b + lr * 1
          
      wt_matrix.append(self.w)    
          
      accuracy[i] = accuracy_score(self.predict(X), Y)
      if (accuracy[i] > max_accuracy):
        max_accuracy = accuracy[i]
        chkptw = self.w
        chkptb = self.b
        
    self.w = chkptw
    self.b = chkptb
        
    print(max_accuracy)
    
    plt.plot(accuracy.values())
    plt.ylim([0, 1])
    plt.show()
    
    return np.array(wt_matrix)

perceptron = Perceptron()

wt_matrix = perceptron.fit(X_train, Y_train, 10000, 0.5)

Y_pred_test = perceptron.predict(X_test)
print(accuracy_score(Y_pred_test, Y_test))

plt.plot(wt_matrix[-1,:])
plt.show()
